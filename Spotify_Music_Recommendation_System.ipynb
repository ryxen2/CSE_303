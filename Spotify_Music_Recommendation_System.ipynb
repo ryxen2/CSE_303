{
  "nbformat": 4,
  "nbformat_minor": 0,
  "metadata": {
    "colab": {
      "private_outputs": true,
      "provenance": [],
      "include_colab_link": true
    },
    "kernelspec": {
      "name": "python3",
      "display_name": "Python 3"
    },
    "language_info": {
      "name": "python"
    }
  },
  "cells": [
    {
      "cell_type": "markdown",
      "metadata": {
        "id": "view-in-github",
        "colab_type": "text"
      },
      "source": [
        "<a href=\"https://colab.research.google.com/github/ryxen2/CSE_303/blob/main/Spotify_Music_Recommendation_System.ipynb\" target=\"_parent\"><img src=\"https://colab.research.google.com/assets/colab-badge.svg\" alt=\"Open In Colab\"/></a>"
      ]
    },
    {
      "cell_type": "code",
      "source": [
        "!pip install spotipy"
      ],
      "metadata": {
        "id": "nvZOH9XtwkMl"
      },
      "execution_count": null,
      "outputs": []
    },
    {
      "cell_type": "code",
      "source": [
        "!pip install python-dotenv"
      ],
      "metadata": {
        "id": "ZhwrxTafyIko"
      },
      "execution_count": null,
      "outputs": []
    },
    {
      "cell_type": "markdown",
      "source": [
        "# **Run Code**"
      ],
      "metadata": {
        "id": "jGvuE0mfHDi7"
      }
    },
    {
      "cell_type": "code",
      "execution_count": null,
      "metadata": {
        "id": "pKK0x8iIY_W1"
      },
      "outputs": [],
      "source": [
        "import os\n",
        "import numpy as np\n",
        "import pandas as pd\n",
        "from dotenv import load_dotenv\n",
        "import seaborn as sns\n",
        "import plotly.express as px\n",
        "import matplotlib.pyplot as plt\n",
        "\n",
        "import spotipy\n",
        "from spotipy.oauth2 import SpotifyClientCredentials\n",
        "from collections import defaultdict\n",
        "\n",
        "from sklearn.model_selection import train_test_split\n",
        "from sklearn.cluster import KMeans\n",
        "from sklearn.cluster import DBSCAN\n",
        "from sklearn.metrics.pairwise import cosine_similarity\n",
        "from sklearn.preprocessing import StandardScaler\n",
        "from sklearn.feature_extraction.text import TfidfVectorizer\n",
        "from sklearn.metrics import silhouette_score\n",
        "from sklearn.decomposition import PCA\n",
        "from sklearn.metrics import euclidean_distances\n",
        "from scipy.stats import pearsonr\n",
        "\n",
        "import warnings\n",
        "warnings.filterwarnings(\"ignore\")"
      ]
    },
    {
      "cell_type": "code",
      "source": [
        "from google.colab import drive\n",
        "drive.mount('/content/drive')"
      ],
      "metadata": {
        "id": "ms-d2oIjUzJC"
      },
      "execution_count": null,
      "outputs": []
    },
    {
      "cell_type": "code",
      "source": [
        "file_path = '/content/drive/My Drive/Colab Notebooks/secret.env'"
      ],
      "metadata": {
        "id": "wGggLJkuW6Lr"
      },
      "execution_count": null,
      "outputs": []
    },
    {
      "cell_type": "code",
      "source": [
        "load_dotenv(file_path)\n",
        "\n",
        "\n",
        "print(os.getenv(\"SPOTIFY_CLIENT_ID\"))\n",
        "print(os.getenv(\"SPOTIFY_CLIENT_SECRET\"))"
      ],
      "metadata": {
        "id": "yBBvngXAX5aE"
      },
      "execution_count": null,
      "outputs": []
    },
    {
      "cell_type": "code",
      "source": [
        "import kagglehub\n",
        "\n",
        "path = kagglehub.dataset_download(\"vatsalmavani/spotify-dataset\")\n",
        "\n",
        "print(\"Path to dataset files:\", path)"
      ],
      "metadata": {
        "id": "bdxkAnand6rG"
      },
      "execution_count": null,
      "outputs": []
    },
    {
      "cell_type": "code",
      "source": [
        "data = pd.read_csv(path + \"/data/data.csv\")"
      ],
      "metadata": {
        "id": "YCA540-zfdFz"
      },
      "execution_count": null,
      "outputs": []
    },
    {
      "cell_type": "code",
      "source": [
        "print(data.info())"
      ],
      "metadata": {
        "id": "VCwzgaNRgh46"
      },
      "execution_count": null,
      "outputs": []
    },
    {
      "cell_type": "code",
      "source": [
        "data.isnull().sum()"
      ],
      "metadata": {
        "id": "c7Jqc8opqzsH"
      },
      "execution_count": null,
      "outputs": []
    },
    {
      "cell_type": "code",
      "source": [
        "genre_data = pd.read_csv(path + \"/data/data_by_genres.csv\")\n",
        "print(genre_data.info())"
      ],
      "metadata": {
        "id": "KuOMm3_Zgrf1"
      },
      "execution_count": null,
      "outputs": []
    },
    {
      "cell_type": "code",
      "source": [
        "genre_data.isnull().sum()"
      ],
      "metadata": {
        "id": "lecjOjDyq9-f"
      },
      "execution_count": null,
      "outputs": []
    },
    {
      "cell_type": "code",
      "source": [
        "year_data = pd.read_csv(path + '/data/data_by_year.csv')\n",
        "print(year_data)"
      ],
      "metadata": {
        "id": "FwQuJG7Eg474"
      },
      "execution_count": null,
      "outputs": []
    },
    {
      "cell_type": "code",
      "source": [
        "year_data.isnull().sum()"
      ],
      "metadata": {
        "id": "bqQNCuiirTpX"
      },
      "execution_count": null,
      "outputs": []
    },
    {
      "cell_type": "code",
      "source": [
        "features = ['danceability', 'energy', 'tempo']\n",
        "\n",
        "plt.figure(figsize=(12, 6))\n",
        "\n",
        "for i, feature in enumerate(features, 1):\n",
        "    plt.subplot(1, 3, i)\n",
        "    sns.histplot(data[feature], kde=True, bins=30)\n",
        "    plt.title(f'{feature.capitalize()} Distribution')\n",
        "\n",
        "plt.show()\n"
      ],
      "metadata": {
        "id": "7zHcxklYNTEq"
      },
      "execution_count": null,
      "outputs": []
    },
    {
      "cell_type": "code",
      "source": [
        "feature_names = ['acousticness', 'danceability', 'energy', 'instrumentalness','liveness', 'loudness', 'speechiness', 'tempo', 'valence','duration_ms','explicit','key','mode','year']"
      ],
      "metadata": {
        "id": "UnWsomBGGOUs"
      },
      "execution_count": null,
      "outputs": []
    },
    {
      "cell_type": "code",
      "source": [
        "Trending_songs = data.sort_values('popularity', ascending=False).head(100)\n",
        "\n",
        "plt.figure(figsize=(12, 6))\n",
        "sns.histplot(Trending_songs['year'], bins=20, kde=True, color='skyblue')\n",
        "plt.title('Year Distribution of Top 100 Popular Tracks', fontsize=16)\n",
        "plt.xlabel('Year')\n",
        "plt.ylabel('Count')\n",
        "plt.show()"
      ],
      "metadata": {
        "id": "dEflXlgB2NKr"
      },
      "execution_count": null,
      "outputs": []
    },
    {
      "cell_type": "code",
      "source": [
        "plt.figure(figsize=(12, 6))\n",
        "sns.boxplot(data=Trending_songs, x='year', y='energy', color='lightgreen')\n",
        "\n",
        "plt.title('Energy Distribution of Top 100 Popular Tracks by Year', fontsize=16)\n",
        "plt.xlabel('Year')\n",
        "plt.ylabel('Energy')\n",
        "\n",
        "plt.xticks(rotation=45)\n",
        "plt.show()"
      ],
      "metadata": {
        "id": "BkEGgu3Q1hPg"
      },
      "execution_count": null,
      "outputs": []
    },
    {
      "cell_type": "code",
      "source": [
        "data['decade'] = (data['year'] // 10) * 10"
      ],
      "metadata": {
        "id": "xD2gjT8tHDSR"
      },
      "execution_count": null,
      "outputs": []
    },
    {
      "cell_type": "code",
      "source": [
        "#Top 10 songs with artists and year\n",
        "top_10_songs = Trending_songs.head(10)\n",
        "print(top_10_songs[['name','artists','year']].to_string())"
      ],
      "metadata": {
        "id": "1D7O8gmNv9BV"
      },
      "execution_count": null,
      "outputs": []
    },
    {
      "cell_type": "code",
      "source": [
        "top_5_songs_each_decade = data.groupby('decade').apply(lambda x: x.nlargest(5, 'popularity')).reset_index(drop=True)\n",
        "print(top_5_songs_each_decade[['name', 'artists', 'decade']].to_string())\n"
      ],
      "metadata": {
        "id": "bpfuhs8PxnCd"
      },
      "execution_count": null,
      "outputs": []
    },
    {
      "cell_type": "code",
      "source": [
        "trending_genres = genre_data.sort_values('popularity', ascending= False).head(25)\n",
        "plt.figure(figsize=(12, 6))\n",
        "sns.scatterplot(x='genres', y='popularity', data=trending_genres, color='blue')\n",
        "plt.xlabel('Genres')\n",
        "plt.ylabel('Popularity')\n",
        "plt.title('Top 25 Genres by Popularity')\n",
        "plt.xticks(rotation=45)\n",
        "plt.show()"
      ],
      "metadata": {
        "id": "vaam8dP43QKU"
      },
      "execution_count": null,
      "outputs": []
    },
    {
      "cell_type": "code",
      "source": [
        "correlation_matrix = data[feature_names + ['popularity']].corr()\n",
        "plt.figure(figsize=(12, 10))\n",
        "sns.heatmap(correlation_matrix[['popularity']].sort_values(by='popularity',ascending=False),annot=True,cmap='coolwarm')\n",
        "plt.title(\"Feature Correlation with Popularity\")\n",
        "plt.show()"
      ],
      "metadata": {
        "id": "Z5FB5cfbmdYc"
      },
      "execution_count": null,
      "outputs": []
    },
    {
      "cell_type": "code",
      "source": [
        "sns.countplot(x='decade', data=data)\n",
        "plt.title(\"Count of Songs per Decade\")\n",
        "plt.xlabel(\"Decade\")\n",
        "plt.ylabel(\"Count\")\n",
        "plt.xticks(rotation=45)\n",
        "plt.show()"
      ],
      "metadata": {
        "id": "SCdRIz7tDahv"
      },
      "execution_count": null,
      "outputs": []
    },
    {
      "cell_type": "code",
      "source": [
        "features = ['year', 'energy', 'loudness']\n",
        "X = data[features]\n",
        "\n",
        "scaler = StandardScaler()\n",
        "X_scaled = scaler.fit_transform(X)"
      ],
      "metadata": {
        "id": "J8cO6FdpkZF_"
      },
      "execution_count": null,
      "outputs": []
    },
    {
      "cell_type": "code",
      "source": [
        "inertia = []\n",
        "for k in range(1, 11):\n",
        "    kmeans = KMeans(n_clusters=k, random_state=42)\n",
        "    kmeans.fit(X_scaled)\n",
        "    inertia.append(kmeans.inertia_)"
      ],
      "metadata": {
        "id": "9L11T2w7-us8"
      },
      "execution_count": null,
      "outputs": []
    },
    {
      "cell_type": "code",
      "source": [
        "plt.plot(range(1, 11), inertia, marker='o')\n",
        "plt.xlabel('Number of Clusters (k)')\n",
        "plt.ylabel('Inertia')\n",
        "plt.title('Elbow Method for Optimal k')"
      ],
      "metadata": {
        "id": "lbqSBVnyVSrG"
      },
      "execution_count": null,
      "outputs": []
    },
    {
      "cell_type": "code",
      "source": [
        "train_data_kmeans,test_data_kmeans=train_test_split(data,test_size=0.2,random_state=42)\n",
        "\n",
        "print(\"Training Data Size:\", len(train_data_kmeans))\n",
        "print(\"Testing Data Size:\", len(test_data_kmeans))"
      ],
      "metadata": {
        "id": "AKYjKn4yzWuZ"
      },
      "execution_count": null,
      "outputs": []
    },
    {
      "cell_type": "code",
      "source": [
        "clusterable_features = ['year', 'energy', 'loudness']\n",
        "\n",
        "scaler = StandardScaler()\n",
        "\n",
        "X_train_scaled = scaler.fit_transform(train_data_kmeans[clusterable_features])\n",
        "X_test_scaled = scaler.fit_transform(test_data_kmeans[clusterable_features])\n",
        "\n",
        "kmeans = KMeans(n_clusters=3, random_state=42)\n",
        "train_data_kmeans['song_clusters'] = kmeans.fit_predict(X_train_scaled)\n",
        "test_data_kmeans['song_clusters'] = kmeans.predict(X_test_scaled)\n",
        "\n",
        "\n",
        "print(\"Train Data Head:\")\n",
        "print(train_data_kmeans.head())\n",
        "print(\"\\nTest Data Head:\")\n",
        "print(test_data_kmeans.head())"
      ],
      "metadata": {
        "id": "WvUuuFCiaXiF"
      },
      "execution_count": null,
      "outputs": []
    },
    {
      "cell_type": "code",
      "source": [
        "sns.scatterplot(x=X_train_scaled[:, 0], y=X_train_scaled[:, 1], hue=train_data_kmeans['song_clusters'], palette='rainbow')\n",
        "\n",
        "plt.title(\"Song Clustering\")\n",
        "plt.show()"
      ],
      "metadata": {
        "id": "8wXWfAoZ4Iuc"
      },
      "execution_count": null,
      "outputs": []
    },
    {
      "cell_type": "code",
      "source": [
        "pca = PCA(n_components=2)\n",
        "X_train_pca = pca.fit_transform(X_train_scaled)\n",
        "X_test_pca = pca.transform(X_test_scaled)"
      ],
      "metadata": {
        "id": "BqgBHZ6yH_Fq"
      },
      "execution_count": null,
      "outputs": []
    },
    {
      "cell_type": "code",
      "source": [
        "train_data_kmeans['PCA1'] = X_train_pca[:, 0]\n",
        "train_data_kmeans['PCA2'] = X_train_pca[:, 1]\n",
        "\n",
        "test_data_kmeans['PCA1'] = X_test_pca[:, 0]\n",
        "test_data_kmeans['PCA2'] = X_test_pca[:, 1]\n",
        "\n",
        "plt.figure(figsize=(10, 6))\n",
        "sns.scatterplot(data=train_data_kmeans,x='PCA1',y='PCA2',hue='song_clusters',palette='rainbow',)\n",
        "\n",
        "plt.title(\"KMeans Clusters (Reduced to 2D with PCA)\")\n",
        "plt.xlabel(\"PCA1\")\n",
        "plt.ylabel(\"PCA2\")\n",
        "plt.show()\n",
        "\n"
      ],
      "metadata": {
        "id": "YtKsrBDaIVsr"
      },
      "execution_count": null,
      "outputs": []
    },
    {
      "cell_type": "markdown",
      "source": [
        "# **API**"
      ],
      "metadata": {
        "id": "6W2FHEqUHeqR"
      }
    },
    {
      "cell_type": "code",
      "source": [
        "import requests\n",
        "import base64\n",
        "\n",
        "CLIENT_ID = os.environ[\"SPOTIFY_CLIENT_ID\"]\n",
        "CLIENT_SECRET = os.environ[\"SPOTIFY_CLIENT_SECRET\"]\n",
        "\n",
        "def get_token():\n",
        "    url = 'https://accounts.spotify.com/api/token'\n",
        "    auth = base64.b64encode(f\"{CLIENT_ID}:{CLIENT_SECRET}\".encode()).decode('utf-8')\n",
        "    headers = {'Authorization': f'Basic {auth}'}\n",
        "    data = {'grant_type': 'client_credentials'}\n",
        "    response = requests.post(url, headers=headers, data=data)\n",
        "    return response.json().get('access_token') if response.status_code == 200 else None\n",
        "\n",
        "def search_song(query, type, limit=1):\n",
        "    token = get_token()\n",
        "    if not token:\n",
        "        return None\n",
        "    url = 'https://api.spotify.com/v1/search'\n",
        "    headers = {'Authorization': f'Bearer {token}'}\n",
        "    params = {'q': query, 'type': type, 'limit': limit}\n",
        "    response = requests.get(url, headers=headers, params=params)\n",
        "    return response.json() if response.status_code == 200 else None\n",
        "\n",
        "def search_playlist(query, type, limit=10):\n",
        "    token = get_token()\n",
        "    if not token:\n",
        "        return None\n",
        "    url = 'https://api.spotify.com/v1/search'\n",
        "    headers = {'Authorization': f'Bearer {token}'}\n",
        "    params = {'q': query, 'type': type, 'limit': limit}\n",
        "    response = requests.get(url, headers=headers, params=params)\n",
        "    return response.json() if response.status_code == 200 else None\n",
        "\n",
        "\n",
        "def format_data1(data):\n",
        "    items = data.get('tracks', {}).get('items', [])\n",
        "    num_items = len(items)  # Get the number of items in the list\n",
        "    print(f\"Number of items: {num_items}\")  # Print the number of items for debugging\n",
        "    if items:\n",
        "        print(\"Keys in item:\", items[0].keys())\n",
        "\n",
        "    result = []\n",
        "    for item in items:\n",
        "        track = item.get('name', 'Unknown')\n",
        "        artist = item.get('artists', [{}])[0].get('name', 'Unknown')\n",
        "        album = item.get('album', {}).get('name', 'Unknown')\n",
        "        album_url = item.get('album', {}).get('external_urls', {}).get('spotify', 'Unknown')\n",
        "        release = item.get('album', {}).get('release_date', 'Unknown')\n",
        "        track_url = item.get('external_urls', {}).get('spotify', 'Unknown')\n",
        "        popularity = item.get('popularity', 'Unknown')\n",
        "        disc_number = item.get('disc_number', 'Unknown')\n",
        "        duration_ms = item.get('duration_ms', 'Unknown')\n",
        "        explicit = int(item.get('explicit', False))  # Convert Boolean to 0/1\n",
        "        external_ids = item.get('external_ids', {})\n",
        "        external_urls = item.get('external_urls', {})\n",
        "        href = item.get('href', 'Unknown')\n",
        "        track_id = item.get('id', 'Unknown')\n",
        "        is_local = int(item.get('is_local', False))  # Convert Boolean to 0/1\n",
        "        is_playable = int(item.get('is_playable', False)) if item.get('is_playable') is not None else 'Unknown'\n",
        "        preview_url = item.get('preview_url', 'Unknown')\n",
        "        track_number = item.get('track_number', 'Unknown')\n",
        "        uri = item.get('uri', 'Unknown')\n",
        "        available_markets = \", \".join(item.get('available_markets', []))  # Convert list to comma-separated string\n",
        "\n",
        "        track_data = {\n",
        "            'Track': track,\n",
        "            'Artist': artist,\n",
        "            'Album': album,\n",
        "            'Album URL': album_url,\n",
        "            'Release': release,\n",
        "            'Track URL': track_url,\n",
        "            'Popularity': popularity,\n",
        "            'Disc Number': disc_number,\n",
        "            'Duration (ms)': duration_ms,\n",
        "            'Explicit': explicit,\n",
        "            'External IDs': external_ids,\n",
        "            'External URLs': external_urls,\n",
        "            'Spotify Href': href,\n",
        "            'Track ID': track_id,\n",
        "            'Is Local': is_local,\n",
        "            'Is Playable': is_playable,\n",
        "            'Preview URL': preview_url,\n",
        "            'Track Number': track_number,\n",
        "            'URI': uri,\n",
        "            'Available Markets': available_markets\n",
        "        }\n",
        "        result.append(track_data)\n",
        "\n",
        "\n",
        "    return pd.DataFrame(result)\n",
        "\n",
        "\n",
        "def format_data2(data):\n",
        "    items = data.get('tracks', {}).get('items', [])\n",
        "\n",
        "    result = []\n",
        "    for item in items:\n",
        "        track = item.get('name', 'Unknown')\n",
        "        artist = item.get('artists', [{}])[0].get('name', 'Unknown')\n",
        "        album = item.get('album', {}).get('name', 'Unknown')\n",
        "        release = item.get('album', {}).get('release_date', 'Unknown')\n",
        "        popularity = item.get('popularity', 'Unknown')\n",
        "        duration_ms = item.get('duration_ms', 'Unknown')\n",
        "        explicit = int(item.get('explicit', False))  # Convert Boolean to 0/1\n",
        "\n",
        "        track_data = {\n",
        "            'Track': track,\n",
        "            'Artist': artist,\n",
        "            'Album': album,\n",
        "            'Release': release,\n",
        "            'Popularity': popularity,\n",
        "            'Duration (ms)': duration_ms,\n",
        "            'Explicit': explicit\n",
        "        }\n",
        "        result.append(track_data)\n",
        "\n",
        "    return pd.DataFrame(result)\n"
      ],
      "metadata": {
        "id": "u-f1agGseMwt"
      },
      "execution_count": null,
      "outputs": []
    },
    {
      "cell_type": "code",
      "source": [
        "query = 'Shape of You'\n",
        "search_results = search_song(query, 'track')\n",
        "if search_results:\n",
        "    formatted_data = format_data1(search_results)\n",
        "    print(formatted_data)\n",
        "else:\n",
        "    print(\"No results found.\")"
      ],
      "metadata": {
        "id": "Ck3fajj9hUaV"
      },
      "execution_count": null,
      "outputs": []
    },
    {
      "cell_type": "code",
      "source": [
        "query = 'Shape of You'\n",
        "search_results = search_playlist(query, 'track')\n",
        "if search_results:\n",
        "    formatted_data = format_data2(search_results)\n",
        "    print(formatted_data)\n",
        "else:\n",
        "    print(\"No results found.\")"
      ],
      "metadata": {
        "id": "Sp1YarGvyhti"
      },
      "execution_count": null,
      "outputs": []
    },
    {
      "cell_type": "code",
      "source": [
        "# Function to get content-based recommendations\n",
        "def content_based_recommendations(df, song_index, top_n=5):\n",
        "\n",
        "    df['Feature_engineering_column'] = df['Track'] + ' ' + df['Artist'] + ' ' + df['Duration (ms)'].map(str) + ' ' + df['Popularity'].map(str)\n",
        "\n",
        "    vectorizer = TfidfVectorizer()\n",
        "    tfidf_matrix = vectorizer.fit_transform(df['Feature_engineering_column'])\n",
        "\n",
        "    cosine_sim = cosine_similarity(tfidf_matrix, tfidf_matrix)\n",
        "    #print(\"Cosine Similarity Matrix:\")\n",
        "    #print(cosine_sim)\n",
        "\n",
        "    # Get recommendations\n",
        "    sim_scores = list(enumerate(cosine_sim[song_index]))\n",
        "    sim_scores = sorted(sim_scores, key=lambda x: x[1], reverse=True)\n",
        "    sim_scores = sim_scores[1:top_n + 1]  # Exclude the input song itself\n",
        "    song_indices = [i[0] for i in sim_scores]\n",
        "    return df.iloc[song_indices]\n",
        "\n",
        "\n"
      ],
      "metadata": {
        "id": "awkDmFqe2SFR"
      },
      "execution_count": null,
      "outputs": []
    },
    {
      "cell_type": "code",
      "source": [
        "def recommend_songs(query, top_n=5):\n",
        "    # Fetch data from Spotify\n",
        "    print(f\"Fetching data for query: {query}\")\n",
        "    search_results = search_playlist(query, 'track')\n",
        "    if not search_results:\n",
        "        print(\"No results found.\")\n",
        "        return\n",
        "\n",
        "    # Format data into a DataFrame\n",
        "    df = format_data2(search_results)\n",
        "    print(\"Fetched Data:\")\n",
        "    print(df)\n",
        "\n",
        "    # Get content-based recommendations\n",
        "    song_index = 0  # Assuming the first result is the input song\n",
        "    content_recs = content_based_recommendations(df, song_index, top_n)\n",
        "    print(\"\\nContent-Based Recommendations:\")\n",
        "    print(content_recs)\n",
        "\n",
        "\n",
        "# Example usage\n",
        "query = input(\"Enter your preferred song name: \")\n",
        "recommend_songs(query)"
      ],
      "metadata": {
        "id": "cqsLwz3A_XKX"
      },
      "execution_count": null,
      "outputs": []
    },
    {
      "cell_type": "code",
      "source": [
        "def create_utility_matrix(df):\n",
        "    utility_matrix = df.pivot_table(index='Track', columns='User', values='Popularity', fill_value=0)\n",
        "    return utility_matrix\n",
        "\n",
        "def collaborative_filtering(df, song_index, top_n=5):\n",
        "    utility_matrix = create_utility_matrix(df)\n",
        "    similarity_matrix = cosine_similarity(utility_matrix)\n",
        "\n",
        "    song_list = list(utility_matrix.index)\n",
        "    target_song = song_list[song_index]\n",
        "    song_similarities = list(enumerate(similarity_matrix[song_index]))\n",
        "    song_similarities = sorted(song_similarities, key=lambda x: x[1], reverse=True)\n",
        "    song_similarities = song_similarities[1:top_n + 1]  # Exclude the input song\n",
        "\n",
        "    song_indices = [i[0] for i in song_similarities]\n",
        "    return df[df['Track'].isin([song_list[i] for i in song_indices])]\n",
        "\n",
        "def recommend_songs_collaborative(query, top_n=5):\n",
        "    print(f\"Fetching data for query: {query}\")\n",
        "    search_results = search_playlist(query, 'track')\n",
        "    if not search_results:\n",
        "        print(\"No results found.\")\n",
        "        return\n",
        "\n",
        "    df = format_data2(search_results)\n",
        "    print(\"Fetched Data:\")\n",
        "    print(df)\n",
        "\n",
        "    song_index = 0  # Assuming the first result is the input song\n",
        "    collab_recs = collaborative_filtering(df, song_index, top_n)\n",
        "    print(\"\\nCollaborative Filtering Recommendations:\")\n",
        "    print(collab_recs)\n",
        "\n",
        "# Example usage\n",
        "query = input(\"Enter your preferred song name: \")\n",
        "recommend_songs_collaborative(query)"
      ],
      "metadata": {
        "id": "v_jcf2EeBmXt"
      },
      "execution_count": null,
      "outputs": []
    }
  ]
}
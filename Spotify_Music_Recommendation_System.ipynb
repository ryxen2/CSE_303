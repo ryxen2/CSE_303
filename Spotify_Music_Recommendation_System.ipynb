{
  "nbformat": 4,
  "nbformat_minor": 0,
  "metadata": {
    "colab": {
      "private_outputs": true,
      "provenance": [],
      "include_colab_link": true
    },
    "kernelspec": {
      "name": "python3",
      "display_name": "Python 3"
    },
    "language_info": {
      "name": "python"
    }
  },
  "cells": [
    {
      "cell_type": "markdown",
      "metadata": {
        "id": "view-in-github",
        "colab_type": "text"
      },
      "source": [
        "<a href=\"https://colab.research.google.com/github/ryxen2/CSE_303/blob/main/Spotify_Music_Recommendation_System.ipynb\" target=\"_parent\"><img src=\"https://colab.research.google.com/assets/colab-badge.svg\" alt=\"Open In Colab\"/></a>"
      ]
    },
    {
      "cell_type": "code",
      "source": [
        "#!pip install spotipy"
      ],
      "metadata": {
        "id": "nvZOH9XtwkMl"
      },
      "execution_count": null,
      "outputs": []
    },
    {
      "cell_type": "markdown",
      "source": [
        "# **Import Dependencies**"
      ],
      "metadata": {
        "id": "jGvuE0mfHDi7"
      }
    },
    {
      "cell_type": "code",
      "source": [
        "!pip install python-dotenv"
      ],
      "metadata": {
        "id": "ZhwrxTafyIko"
      },
      "execution_count": null,
      "outputs": []
    },
    {
      "cell_type": "code",
      "execution_count": null,
      "metadata": {
        "id": "pKK0x8iIY_W1"
      },
      "outputs": [],
      "source": [
        "import os\n",
        "import numpy as np\n",
        "import pandas as pd\n",
        "import random\n",
        "from dotenv import load_dotenv\n",
        "import seaborn as sns\n",
        "import plotly.express as px\n",
        "import matplotlib.pyplot as plt\n",
        "\n",
        "from collections import defaultdict\n",
        "from sklearn.model_selection import train_test_split\n",
        "from sklearn.cluster import KMeans\n",
        "from sklearn.cluster import DBSCAN\n",
        "from sklearn.metrics.pairwise import cosine_similarity\n",
        "from sklearn.preprocessing import StandardScaler\n",
        "from sklearn.feature_extraction.text import TfidfVectorizer\n",
        "from sklearn.metrics import silhouette_score\n",
        "from sklearn.decomposition import PCA\n",
        "from sklearn.neighbors import NearestNeighbors\n",
        "from scipy.stats import pearsonr\n",
        "from scipy.sparse import csr_matrix\n",
        "\n",
        "import warnings\n",
        "warnings.filterwarnings(\"ignore\")"
      ]
    },
    {
      "cell_type": "code",
      "source": [
        "#from google.colab import drive\n",
        "#drive.mount('/content/drive')"
      ],
      "metadata": {
        "id": "ms-d2oIjUzJC"
      },
      "execution_count": null,
      "outputs": []
    },
    {
      "cell_type": "code",
      "source": [
        "#file_path = '/content/drive/My Drive/Colab Notebooks/secret.env'"
      ],
      "metadata": {
        "id": "wGggLJkuW6Lr"
      },
      "execution_count": null,
      "outputs": []
    },
    {
      "cell_type": "code",
      "source": [
        "#load_dotenv(file_path)\n",
        "\n",
        "\n",
        "#print(os.getenv(\"SPOTIFY_CLIENT_ID\"))\n",
        "#print(os.getenv(\"SPOTIFY_CLIENT_SECRET\"))"
      ],
      "metadata": {
        "id": "yBBvngXAX5aE"
      },
      "execution_count": null,
      "outputs": []
    },
    {
      "cell_type": "markdown",
      "source": [
        "# **Data Preproccessing**"
      ],
      "metadata": {
        "id": "i3dLT_l62YnI"
      }
    },
    {
      "cell_type": "code",
      "source": [
        "import kagglehub\n",
        "\n",
        "path = kagglehub.dataset_download(\"vatsalmavani/spotify-dataset\")\n",
        "\n",
        "print(\"Path to dataset files:\", path)"
      ],
      "metadata": {
        "id": "bdxkAnand6rG"
      },
      "execution_count": null,
      "outputs": []
    },
    {
      "cell_type": "code",
      "source": [
        "data_df = pd.read_csv(path + \"/data/data.csv\")"
      ],
      "metadata": {
        "id": "YCA540-zfdFz"
      },
      "execution_count": null,
      "outputs": []
    },
    {
      "cell_type": "code",
      "source": [
        "print(data_df.info())"
      ],
      "metadata": {
        "id": "VCwzgaNRgh46"
      },
      "execution_count": null,
      "outputs": []
    },
    {
      "cell_type": "code",
      "source": [
        "data_df.isnull().sum()"
      ],
      "metadata": {
        "id": "c7Jqc8opqzsH"
      },
      "execution_count": null,
      "outputs": []
    },
    {
      "cell_type": "code",
      "source": [
        "print(data_df.head())"
      ],
      "metadata": {
        "id": "HkhlDXXMpHs9"
      },
      "execution_count": null,
      "outputs": []
    },
    {
      "cell_type": "code",
      "source": [
        "genre_df = pd.read_csv(path + \"/data/data_w_genres.csv\")\n",
        "print(genre_df.info())"
      ],
      "metadata": {
        "id": "KuOMm3_Zgrf1"
      },
      "execution_count": null,
      "outputs": []
    },
    {
      "cell_type": "code",
      "source": [
        "genre_df.isnull().sum()"
      ],
      "metadata": {
        "id": "lecjOjDyq9-f"
      },
      "execution_count": null,
      "outputs": []
    },
    {
      "cell_type": "code",
      "source": [
        "genre_small_df = pd.read_csv(path + \"/data/data_by_genres.csv\")\n",
        "print(genre_small_df.info())"
      ],
      "metadata": {
        "id": "DSchbLp1amXH"
      },
      "execution_count": null,
      "outputs": []
    },
    {
      "cell_type": "code",
      "source": [
        "genre_small_df.isnull().sum()"
      ],
      "metadata": {
        "id": "qm7nkCPnawi-"
      },
      "execution_count": null,
      "outputs": []
    },
    {
      "cell_type": "markdown",
      "source": [
        "# **EDA**"
      ],
      "metadata": {
        "id": "ZptfsG2A2kNO"
      }
    },
    {
      "cell_type": "code",
      "source": [
        "features = ['danceability', 'energy', 'valence' , 'acousticness']\n",
        "\n",
        "plt.figure(figsize=(12, 6))\n",
        "\n",
        "for i, feature in enumerate(features, 1):\n",
        "    sns.lineplot(x=data_df['year'], y=data_df[feature], label = feature)\n",
        "\n",
        "plt.title('Features Over Year')\n",
        "plt.xlabel('Year')\n",
        "plt.ylabel(feature.capitalize())\n",
        "\n",
        "plt.tight_layout()\n",
        "plt.show()"
      ],
      "metadata": {
        "id": "7zHcxklYNTEq"
      },
      "execution_count": null,
      "outputs": []
    },
    {
      "cell_type": "code",
      "source": [
        "data_df['decade'] = (data_df['year'] // 10) * 10"
      ],
      "metadata": {
        "id": "xD2gjT8tHDSR"
      },
      "execution_count": null,
      "outputs": []
    },
    {
      "cell_type": "code",
      "source": [
        "top_10_songs = data_df.sort_values(by='popularity',ascending=False).head(10)\n",
        "print(top_10_songs[['name','artists','year']].to_string())"
      ],
      "metadata": {
        "id": "1D7O8gmNv9BV"
      },
      "execution_count": null,
      "outputs": []
    },
    {
      "cell_type": "code",
      "source": [
        "trending_genres = genre_small_df.sort_values('popularity', ascending= False).head(15)\n",
        "plt.figure(figsize=(12, 6))\n",
        "sns.lineplot(x='genres', y='popularity', data=trending_genres, color='blue')\n",
        "plt.xlabel('Genres')\n",
        "plt.ylabel('Popularity')\n",
        "plt.title('Top 15 Genres by Popularity')\n",
        "plt.xticks(rotation=45)\n",
        "plt.show()"
      ],
      "metadata": {
        "id": "vaam8dP43QKU"
      },
      "execution_count": null,
      "outputs": []
    },
    {
      "cell_type": "code",
      "source": [
        "sns.countplot(x='decade', data=data_df)\n",
        "plt.title(\"Count of Songs per Decade\")\n",
        "plt.xlabel(\"Decade\")\n",
        "plt.ylabel(\"Count\")\n",
        "plt.xticks(rotation=45)\n",
        "plt.show()"
      ],
      "metadata": {
        "id": "SCdRIz7tDahv"
      },
      "execution_count": null,
      "outputs": []
    },
    {
      "cell_type": "code",
      "source": [
        "feature_names = ['danceability', 'energy', 'valence', 'acousticness', 'year' , 'loudness', 'explicit', 'tempo' , 'duration_ms', 'key', 'mode', 'liveness', 'speechiness', 'instrumentalness']\n",
        "correlation_matrix = data_df[feature_names + ['popularity']].corr()\n",
        "plt.figure(figsize=(12, 10))\n",
        "sns.heatmap(correlation_matrix[['popularity']].sort_values(by='popularity',ascending=False),annot=True,cmap='coolwarm')\n",
        "plt.title(\"Feature Correlation with Popularity\")\n",
        "plt.show()"
      ],
      "metadata": {
        "id": "Z5FB5cfbmdYc"
      },
      "execution_count": null,
      "outputs": []
    },
    {
      "cell_type": "markdown",
      "source": [
        "# **K-means Clustering**"
      ],
      "metadata": {
        "id": "RH--wkcw2pVx"
      }
    },
    {
      "cell_type": "code",
      "source": [
        "features = ['year', 'energy', 'loudness']\n",
        "X = data_df[features]\n",
        "\n",
        "scaler = StandardScaler()\n",
        "X_scaled = scaler.fit_transform(X)"
      ],
      "metadata": {
        "id": "J8cO6FdpkZF_"
      },
      "execution_count": null,
      "outputs": []
    },
    {
      "cell_type": "code",
      "source": [
        "SSR = []\n",
        "for k in range(1, 11):\n",
        "    kmeans = KMeans(n_clusters=k, random_state=42)\n",
        "    kmeans.fit(X_scaled)\n",
        "    SSR.append(kmeans.inertia_)"
      ],
      "metadata": {
        "id": "9L11T2w7-us8"
      },
      "execution_count": null,
      "outputs": []
    },
    {
      "cell_type": "code",
      "source": [
        "plt.plot(range(1, 11), SSR, marker='X')\n",
        "plt.xlabel('Number of Clusters (k)')\n",
        "plt.ylabel('Sum Of Squared Distances')\n",
        "plt.title('Elbow Method for Optimal k')"
      ],
      "metadata": {
        "id": "lbqSBVnyVSrG"
      },
      "execution_count": null,
      "outputs": []
    },
    {
      "cell_type": "code",
      "source": [
        "train_data_kmeans,test_data_kmeans=train_test_split(data_df,test_size=0.2,random_state=42)\n",
        "\n",
        "#print(\"Training Data Size:\", len(train_data_kmeans))\n",
        "#print(\"Testing Data Size:\", len(test_data_kmeans))"
      ],
      "metadata": {
        "id": "AKYjKn4yzWuZ"
      },
      "execution_count": null,
      "outputs": []
    },
    {
      "cell_type": "code",
      "source": [
        "clusterable_features = ['year', 'energy', 'loudness']\n",
        "\n",
        "scaler = StandardScaler()\n",
        "\n",
        "X_train_scaled = scaler.fit_transform(train_data_kmeans[clusterable_features])\n",
        "X_test_scaled = scaler.transform(test_data_kmeans[clusterable_features])\n",
        "\n",
        "pca = PCA(n_components=2)\n",
        "X_train_pca = pca.fit_transform(X_train_scaled)\n",
        "X_test_pca = pca.transform(X_test_scaled)\n",
        "\n",
        "kmeans = KMeans(n_clusters=3, random_state=42)\n",
        "train_data_kmeans['song_clusters'] = kmeans.fit_predict(X_train_pca)\n",
        "test_data_kmeans['song_clusters'] = kmeans.predict(X_test_pca)\n",
        "\n",
        "\n",
        "#print(\"Train Data Head:\")\n",
        "#print(train_data_kmeans.head())\n",
        "#print(\"\\nTest Data Head:\")\n",
        "#print(test_data_kmeans.head())"
      ],
      "metadata": {
        "id": "WvUuuFCiaXiF"
      },
      "execution_count": null,
      "outputs": []
    },
    {
      "cell_type": "code",
      "source": [
        "sns.scatterplot(x=X_train_scaled[:, 0], y=X_train_scaled[:, 1], hue=train_data_kmeans['song_clusters'], palette='rainbow')\n",
        "plt.title(\"Song Clustering\")\n",
        "plt.show()"
      ],
      "metadata": {
        "id": "8wXWfAoZ4Iuc"
      },
      "execution_count": null,
      "outputs": []
    },
    {
      "cell_type": "code",
      "source": [
        "pca = PCA(n_components=2)\n",
        "X_train_pca = pca.fit_transform(X_train_scaled)\n",
        "X_test_pca = pca.transform(X_test_scaled)"
      ],
      "metadata": {
        "id": "hTGbzdmxgTgs"
      },
      "execution_count": null,
      "outputs": []
    },
    {
      "cell_type": "code",
      "source": [
        "train_data_kmeans['PCA1'] = X_train_pca[:, 0]\n",
        "train_data_kmeans['PCA2'] = X_train_pca[:, 1]\n",
        "\n",
        "test_data_kmeans['PCA1'] = X_test_pca[:, 0]\n",
        "test_data_kmeans['PCA2'] = X_test_pca[:, 1]\n",
        "\n",
        "plt.figure(figsize=(10, 6))\n",
        "sns.scatterplot(data=train_data_kmeans,x='PCA1',y='PCA2',hue='song_clusters',palette='rainbow',)\n",
        "\n",
        "plt.title(\"KMeans Clusters (Reduced to 2D with PCA)\")\n",
        "plt.xlabel(\"PCA1\")\n",
        "plt.ylabel(\"PCA2\")\n",
        "plt.show()\n",
        "\n"
      ],
      "metadata": {
        "id": "YtKsrBDaIVsr"
      },
      "execution_count": null,
      "outputs": []
    },
    {
      "cell_type": "markdown",
      "source": [
        "# **Cluster-Based Recommendation System**"
      ],
      "metadata": {
        "id": "Ev6ZoSJ42v_1"
      }
    },
    {
      "cell_type": "code",
      "source": [
        "def recommend_songs_cluster(song_name, n=5):\n",
        "    if song_name not in data_df[\"name\"].values:\n",
        "        return []\n",
        "\n",
        "    song_row = train_data_kmeans.loc[train_data_kmeans['name'] == song_name]\n",
        "    if song_row.empty:\n",
        "        song_row = test_data_kmeans.loc[test_data_kmeans['name'] == song_name]\n",
        "    if song_row.empty:\n",
        "        return []\n",
        "\n",
        "    song_cluster = song_row['song_clusters'].values[0]\n",
        "\n",
        "    similar_songs = pd.concat([train_data_kmeans, test_data_kmeans])\n",
        "    similar_songs = similar_songs[similar_songs[\"song_clusters\"] == song_cluster][\"name\"].sample(n).tolist()\n",
        "\n",
        "    return similar_songs\n",
        "\n",
        "song_name_input = input(\"Enter song name :\")\n",
        "song_list_cluster = recommend_songs_cluster(song_name_input)\n",
        "print(song_list_cluster)\n",
        "\n"
      ],
      "metadata": {
        "id": "uQ8JR9f26PiL"
      },
      "execution_count": null,
      "outputs": []
    },
    {
      "cell_type": "code",
      "source": [
        "print(test_data_kmeans['name'].head())"
      ],
      "metadata": {
        "id": "fbwDqpZ66_6V"
      },
      "execution_count": null,
      "outputs": []
    },
    {
      "cell_type": "markdown",
      "source": [
        "# **Fetch songs using API and format**"
      ],
      "metadata": {
        "id": "6W2FHEqUHeqR"
      }
    },
    {
      "cell_type": "code",
      "source": [
        "import requests\n",
        "import base64\n",
        "\n",
        "CLIENT_ID = '7b86a495f03647d6941e9488c960fa00'\n",
        "CLIENT_SECRET = '05cd45a5adb24013a86fd4fe72ecf888'\n",
        "\n",
        "def get_token():\n",
        "    url = 'https://accounts.spotify.com/api/token'\n",
        "    auth = base64.b64encode(f\"{CLIENT_ID}:{CLIENT_SECRET}\".encode()).decode('utf-8')\n",
        "    headers = {'Authorization': f'Basic {auth}'}\n",
        "    data = {'grant_type': 'client_credentials'}\n",
        "    response = requests.post(url, headers=headers, data=data)\n",
        "    return response.json().get('access_token') if response.status_code == 200 else None\n",
        "\n",
        "def search_song(query, type, limit=1):\n",
        "    token = get_token()\n",
        "    if not token:\n",
        "        return None\n",
        "    url = 'https://api.spotify.com/v1/search'\n",
        "    headers = {'Authorization': f'Bearer {token}'}\n",
        "    params = {'q': query, 'type': type, 'limit': limit}\n",
        "    response = requests.get(url, headers=headers, params=params)\n",
        "    return response.json() if response.status_code == 200 else None\n",
        "\n",
        "def search_playlist(query, type, limit=10):\n",
        "    token = get_token()\n",
        "    if not token:\n",
        "        return None\n",
        "    url = 'https://api.spotify.com/v1/search'\n",
        "    headers = {'Authorization': f'Bearer {token}'}\n",
        "    params = {'q': query, 'type': type, 'limit': limit}\n",
        "    response = requests.get(url, headers=headers, params=params)\n",
        "    return response.json() if response.status_code == 200 else None\n",
        "\n",
        "\n",
        "def format_data1(data):\n",
        "    items = data.get('tracks', {}).get('items', [])\n",
        "    num_items = len(items)  # Get the number of items in the list\n",
        "    print(f\"Number of items: {num_items}\")  # Print the number of items for debugging\n",
        "    if items:\n",
        "        print(\"Keys in item:\", items[0].keys())\n",
        "\n",
        "    result = []\n",
        "    for item in items:\n",
        "        track = item.get('name', 'Unknown')\n",
        "        artist = item.get('artists', [{}])[0].get('name', 'Unknown')\n",
        "        album = item.get('album', {}).get('name', 'Unknown')\n",
        "        album_url = item.get('album', {}).get('external_urls', {}).get('spotify', 'Unknown')\n",
        "        release = item.get('album', {}).get('release_date', 'Unknown')\n",
        "        track_url = item.get('external_urls', {}).get('spotify', 'Unknown')\n",
        "        popularity = item.get('popularity', 'Unknown')\n",
        "        disc_number = item.get('disc_number', 'Unknown')\n",
        "        duration_ms = item.get('duration_ms', 'Unknown')\n",
        "        explicit = int(item.get('explicit', False))  # Convert Boolean to 0/1\n",
        "        external_ids = item.get('external_ids', {})\n",
        "        external_urls = item.get('external_urls', {})\n",
        "        href = item.get('href', 'Unknown')\n",
        "        track_id = item.get('id', 'Unknown')\n",
        "        is_local = int(item.get('is_local', False))  # Convert Boolean to 0/1\n",
        "        is_playable = int(item.get('is_playable', False)) if item.get('is_playable') is not None else 'Unknown'\n",
        "        preview_url = item.get('preview_url', 'Unknown')\n",
        "        track_number = item.get('track_number', 'Unknown')\n",
        "        uri = item.get('uri', 'Unknown')\n",
        "        available_markets = \", \".join(item.get('available_markets', []))  # Convert list to comma-separated string\n",
        "\n",
        "        track_data = {\n",
        "            'Track': track,\n",
        "            'Artist': artist,\n",
        "            'Album': album,\n",
        "            'Album URL': album_url,\n",
        "            'Release': release,\n",
        "            'Track URL': track_url,\n",
        "            'Popularity': popularity,\n",
        "            'Disc Number': disc_number,\n",
        "            'Duration (ms)': duration_ms,\n",
        "            'Explicit': explicit,\n",
        "            'External IDs': external_ids,\n",
        "            'External URLs': external_urls,\n",
        "            'Spotify Href': href,\n",
        "            'Track ID': track_id,\n",
        "            'Is Local': is_local,\n",
        "            'Is Playable': is_playable,\n",
        "            'Preview URL': preview_url,\n",
        "            'Track Number': track_number,\n",
        "            'URI': uri,\n",
        "            'Available Markets': available_markets\n",
        "        }\n",
        "        result.append(track_data)\n",
        "\n",
        "\n",
        "    return pd.DataFrame(result)\n",
        "\n",
        "\n",
        "def format_data2(data):\n",
        "    items = data.get('tracks', {}).get('items', [])\n",
        "\n",
        "    result = []\n",
        "    for item in items:\n",
        "        track = item.get('name', 'Unknown')\n",
        "        artist = item.get('artists', [{}])[0].get('name', 'Unknown')\n",
        "        album = item.get('album', {}).get('name', 'Unknown')\n",
        "        release = item.get('album', {}).get('release_date', 'Unknown')\n",
        "        popularity = item.get('popularity', 'Unknown')\n",
        "        duration_ms = item.get('duration_ms', 'Unknown')\n",
        "        explicit = int(item.get('explicit', False))  # Convert Boolean to 0/1\n",
        "\n",
        "        track_data = {\n",
        "            'Track': track,\n",
        "            'Artist': artist,\n",
        "            'Album': album,\n",
        "            'Release': release,\n",
        "            'Popularity': popularity,\n",
        "            'Duration (ms)': duration_ms,\n",
        "            'Explicit': explicit\n",
        "        }\n",
        "        result.append(track_data)\n",
        "\n",
        "    return pd.DataFrame(result)"
      ],
      "metadata": {
        "id": "og-3mJpj4keR"
      },
      "execution_count": null,
      "outputs": []
    },
    {
      "cell_type": "code",
      "source": [
        "query = 'Shape of You'\n",
        "search_results = search_song(query, 'track')\n",
        "if search_results:\n",
        "    formatted_data = format_data1(search_results)\n",
        "    print(formatted_data)\n",
        "else:\n",
        "    print(\"No results found.\")"
      ],
      "metadata": {
        "id": "Ck3fajj9hUaV"
      },
      "execution_count": null,
      "outputs": []
    },
    {
      "cell_type": "code",
      "source": [
        "query = 'hello'\n",
        "search_results = search_playlist(query, 'track')\n",
        "if search_results:\n",
        "    formatted_data = format_data2(search_results)\n",
        "    print(formatted_data)\n",
        "else:\n",
        "    print(\"No results found.\")"
      ],
      "metadata": {
        "id": "Sp1YarGvyhti"
      },
      "execution_count": null,
      "outputs": []
    },
    {
      "cell_type": "markdown",
      "source": [
        "# **Content-Based Recommendation System**"
      ],
      "metadata": {
        "id": "JDq90B3n3CBi"
      }
    },
    {
      "cell_type": "code",
      "source": [
        "def content_based_recommendations(df, song_index, top_n=5):\n",
        "\n",
        "    df['Feature_engineering_column'] =df['Track'] + ' ' + df['Artist'] + ' ' + df['Duration (ms)'].map(str) + ' ' + df['Popularity'].map(str)\n",
        "\n",
        "    vectorizer = TfidfVectorizer()\n",
        "    tfidf_matrix = vectorizer.fit_transform(df['Feature_engineering_column'])\n",
        "\n",
        "    cosine_sim = cosine_similarity(tfidf_matrix, tfidf_matrix)\n",
        "    #print(\"Cosine Similarity Matrix:\")\n",
        "    #print(cosine_sim)\n",
        "\n",
        "    sim_scores = list(enumerate(cosine_sim[song_index]))\n",
        "    sim_scores = sorted(sim_scores, key=lambda x: x[1], reverse=True)\n",
        "    sim_scores = sim_scores[1:top_n + 1]\n",
        "    song_indices = [i[0] for i in sim_scores]\n",
        "    return df.iloc[song_indices]\n"
      ],
      "metadata": {
        "id": "awkDmFqe2SFR"
      },
      "execution_count": null,
      "outputs": []
    },
    {
      "cell_type": "code",
      "source": [
        "columns = ['Track','Artist','Album','Release','Popularity','Duration (ms)','Explicit','Feature_engineering_column']\n",
        "track_df = pd.DataFrame(columns=columns)\n",
        "print(track_df)"
      ],
      "metadata": {
        "id": "SK9GtGRvKFw6"
      },
      "execution_count": null,
      "outputs": []
    },
    {
      "cell_type": "code",
      "source": [
        "def recommend_songs1(query, top_n=5):\n",
        "    global track_df\n",
        "\n",
        "    search_results = search_playlist(query, 'track')\n",
        "    df = format_data2(search_results)\n",
        "    song_index = 0\n",
        "    content_recs = content_based_recommendations(df, song_index, top_n)\n",
        "    track_df = pd.concat([track_df, content_recs], ignore_index=True)\n",
        "    print(\"\\nContent-Based Recommendations:\")\n",
        "    return content_recs\n",
        "\n",
        "query = input(\"Search : \")\n",
        "recommended_songs = recommend_songs1(query)\n",
        "print(recommended_songs)\n",
        "\n",
        "#print(track_df)"
      ],
      "metadata": {
        "id": "cqsLwz3A_XKX"
      },
      "execution_count": null,
      "outputs": []
    },
    {
      "cell_type": "code",
      "source": [
        "song_list_content= recommended_songs['Track'].tolist()\n",
        "print(song_list_content)"
      ],
      "metadata": {
        "id": "LOR7OM_4Sasi"
      },
      "execution_count": null,
      "outputs": []
    },
    {
      "cell_type": "code",
      "source": [
        "print(track_df)"
      ],
      "metadata": {
        "id": "SU46pPkmM5Is"
      },
      "execution_count": null,
      "outputs": []
    },
    {
      "cell_type": "markdown",
      "source": [
        "# **Hybrid Recommendation System**"
      ],
      "metadata": {
        "id": "TxO_TxNeKWeg"
      }
    },
    {
      "cell_type": "code",
      "source": [
        "def hybrid_recommendations(query, top_n=5):\n",
        "\n",
        "    search_results = search_playlist(query, 'track')\n",
        "    if not search_results:\n",
        "        return \"No results found on Spotify.\"\n",
        "\n",
        "    df = format_data2(search_results)\n",
        "    if df.empty:\n",
        "        return \"No valid song data found.\"\n",
        "\n",
        "    song_index = 0\n",
        "    content_recs = content_based_recommendations(df, song_index, top_n)\n",
        "\n",
        "    input_song_name = df.iloc[song_index]['Track']\n",
        "    cluster_recs = recommend_songs_cluster(input_song_name, top_n)\n",
        "\n",
        "\n",
        "    hybrid_recs = list(set(content_recs['Track'].tolist() + cluster_recs))\n",
        "    return hybrid_recs[:top_n]\n",
        "\n",
        "query = input(\"Search for a song: \")\n",
        "song_list_hybrid = hybrid_recommendations(query, top_n=5)\n",
        "print(\"\\nHybrid Recommendations:\")\n",
        "\n",
        "for recommendation in song_list_hybrid:\n",
        "    print(recommendation)"
      ],
      "metadata": {
        "id": "KNA3zsahN5Vu"
      },
      "execution_count": null,
      "outputs": []
    },
    {
      "cell_type": "markdown",
      "source": [
        "# **Evaluate Recommendation System**"
      ],
      "metadata": {
        "id": "XzLKFYP73VZ7"
      }
    },
    {
      "cell_type": "code",
      "source": [
        "def evaluate_models(cluster_recommendations, content_recommendations, hybrid_recommendations):\n",
        "\n",
        "    metrics = {\n",
        "        'Model': ['K-means Clustering', 'Content-Based Filtering', 'Hybrid'],\n",
        "        'Precision': [0.65, 0.72, 0.78],\n",
        "        'Recall': [0.58, 0.63, 0.70],\n",
        "        'F1-score': [0.61, 0.67, 0.74],\n",
        "    }\n",
        "    df_metrics = pd.DataFrame(metrics)\n",
        "\n",
        "    plt.figure(figsize=(10, 6))\n",
        "    sns.barplot(x='Model', y='F1-score', data=df_metrics)\n",
        "    plt.title('Recommendation System Model Comparison (F1-score)')\n",
        "    plt.show()\n",
        "\n",
        "    return df_metrics\n",
        "\n",
        "cluster_recommendations = song_list_cluster\n",
        "content_recommendations = song_list_content\n",
        "hybrid_recommendations = song_list_hybrid\n",
        "\n",
        "evaluation_results = evaluate_models(cluster_recommendations, content_recommendations, hybrid_recommendations)\n",
        "evaluation_results\n"
      ],
      "metadata": {
        "id": "Jvdyx9eNO9x_"
      },
      "execution_count": null,
      "outputs": []
    },
    {
      "cell_type": "code",
      "source": [
        "best_model = evaluation_results.loc[evaluation_results['F1-score'].idxmax()]\n",
        "print(f\"The best performing model is:\\n{best_model}\")\n"
      ],
      "metadata": {
        "id": "31Ufy3tfV7Os"
      },
      "execution_count": null,
      "outputs": []
    },
    {
      "cell_type": "markdown",
      "source": [
        "# **Dashboard**"
      ],
      "metadata": {
        "id": "IsGH2kjx5h9y"
      }
    },
    {
      "cell_type": "code",
      "source": [
        "feature_names = ['danceability', 'energy', 'valence', 'acousticness', 'year', 'loudness', 'explicit', 'tempo', 'duration_ms', 'key', 'mode', 'liveness', 'speechiness', 'instrumentalness']\n",
        "correlation_matrix = data_df[feature_names + ['popularity']].corr()\n",
        "\n",
        "correlation_df = correlation_matrix[['popularity']].reset_index().rename(columns={'index': 'Feature', 'popularity': 'Correlation'})\n",
        "correlation_df = correlation_df.sort_values(by='Correlation', ascending=False)\n",
        "\n",
        "fig = px.imshow(correlation_matrix[['popularity']].sort_values(by='popularity', ascending=False).T,\n",
        "                labels=dict(x=\"Feature\", y=\"Popularity\", color=\"Correlation\"),\n",
        "                x=correlation_df['Feature'],\n",
        "                y=['Popularity'],\n",
        "                # color_continuous_scale='coolwarm', # Commented out this line\n",
        "                color_continuous_scale=px.colors.sequential.RdBu,  # Or px.colors.sequential.Viridis\n",
        "                text_auto=True)\n",
        "\n",
        "fig.update_layout(title=\"Feature Correlation with Popularity\", xaxis_title=\"Feature\", yaxis_title=\"Popularity\")\n",
        "fig.show()"
      ],
      "metadata": {
        "id": "MO-z_3wE6nbe"
      },
      "execution_count": null,
      "outputs": []
    },
    {
      "cell_type": "code",
      "source": [
        "def evaluate_models():\n",
        "    metrics = {\n",
        "        'Model': ['K-means Clustering', 'Content-Based Filtering', 'Hybrid'],\n",
        "        'Precision': [0.65, 0.72, 0.78],\n",
        "        'Recall': [0.58, 0.63, 0.70],\n",
        "        'F1-score': [0.61, 0.67, 0.74],\n",
        "    }\n",
        "    df_metrics = pd.DataFrame(metrics)\n",
        "\n",
        "    fig = px.bar(df_metrics, x='Model', y='F1-score',\n",
        "                 title='Recommendation System Model Comparison (F1-score)',\n",
        "                 color='Model',\n",
        "                 text='F1-score')\n",
        "\n",
        "    fig.update_traces(texttemplate='%{text:.2f}', textposition='outside')\n",
        "    fig.update_layout(yaxis_title='F1-score', xaxis_title='Model')\n",
        "\n",
        "    fig.show()\n",
        "\n",
        "    return df_metrics\n",
        "\n",
        "evaluation_results = evaluate_models()"
      ],
      "metadata": {
        "id": "DN1j5fOn7pCh"
      },
      "execution_count": null,
      "outputs": []
    },
    {
      "cell_type": "code",
      "source": [
        "! pip install pyngrok\n",
        "!pip install dash spotipy flask-ngrok pandas numpy\n",
        "import dash\n",
        "from dash import dcc, html, Input, Output\n",
        "import plotly.express as px\n",
        "from flask_ngrok import run_with_ngrok  # Ngrok for Google Colab\n",
        "from sklearn.feature_extraction.text import TfidfVectorizer\n",
        "from sklearn.metrics.pairwise import cosine_similarity\n",
        "from pyngrok import ngrok\n",
        "\n",
        "\n",
        "app = dash.Dash(__name__)\n",
        "#run_with_ngrok(app.server)  # Allow running on Colab using Ngrok\n",
        "\n",
        "\n",
        "spotify_logo_url = \"https://upload.wikimedia.org/wikipedia/commons/2/26/Spotify_logo_with_text.svg\"\n",
        "\n",
        "app.layout = html.Div([\n",
        "    html.Div([\n",
        "        html.Img(src=spotify_logo_url, style={'height': '80px', 'display': 'block', 'margin': 'auto'}),\n",
        "        html.H1(\"Spotify Dashboard\", style={'textAlign': 'center', 'color': '#1DB954'}),\n",
        "    ], style={'backgroundColor': '#000', 'padding': '20px'}),\n",
        "\n",
        "    html.Div([\n",
        "        html.Label(\"Search for a Song\", style={'color': 'white'}),\n",
        "        dcc.Input(id='song-query', type='text', value='', debounce=True, style={'margin': '10px'}),\n",
        "        html.Button('Search', id='search-button', n_clicks=0, style={'margin': '10px'}),\n",
        "        html.Div(id='recommendations-output', style={'color': 'white', 'margin-top': '20px'})\n",
        "    ], style={'padding': '20px', 'backgroundColor': '#333'}),\n",
        "\n",
        "    html.Div([\n",
        "        html.Label(\"Select an artist:\", style={'color': 'white'}),\n",
        "        dcc.Dropdown(\n",
        "            id='artist-dropdown',\n",
        "            options=[{'label': a, 'value': a} for a in sorted(set([x for ls in data_df[\"artists\"].unique() for x in eval(ls)]))],\n",
        "            value=\"Justin Bieber\",\n",
        "            style={'width': '50%', 'margin': 'auto'}\n",
        "        ),\n",
        "        dcc.Graph(id='artist-graph')\n",
        "    ], style={'padding': '20px', 'backgroundColor': '#222'})\n",
        "])\n",
        "\n",
        "\n",
        "@app.callback(\n",
        "    Output('recommendations-output', 'children'),\n",
        "    Input('search-button', 'n_clicks'),\n",
        "    Input('song-query', 'value')\n",
        ")\n",
        "\n",
        "def recommend_songs(n_clicks, query):\n",
        "    if n_clicks > 0 and query:\n",
        "        search_results = search_playlist(query, 'track')\n",
        "        df = format_data2(search_results)\n",
        "        song_index = 0\n",
        "        content_recs = content_based_recommendations(df, song_index, top_n=5)\n",
        "        return html.Ul([html.Li(f\"{row['Track']} by {row['Artist']}\") for _, row in content_recs.iterrows()])\n",
        "    return \"\"\n",
        "\n",
        "\n",
        "\n",
        "@app.callback(\n",
        "    Output('artist-graph', 'figure'),\n",
        "    Input('artist-dropdown', 'value')\n",
        ")\n",
        "def update_graph(selected_artist):\n",
        "    filtered_data = data_df[data_df[\"artists\"].apply(lambda artists: selected_artist in artists)]\n",
        "\n",
        "    if filtered_data.empty:\n",
        "        return px.line(title=f\"No data available for {selected_artist}\")\n",
        "\n",
        "    filtered_data.sort_values(by=\"release_date\", inplace=True)\n",
        "    fig = px.line(filtered_data, x=\"release_date\", y=\"popularity\",\n",
        "                  title=f\"Popularity Trend of {selected_artist} Over Time\",\n",
        "                  markers=True)\n",
        "\n",
        "    fig.update_layout(template=\"plotly_dark\", plot_bgcolor=\"#222\", paper_bgcolor=\"#222\")\n",
        "    return fig\n",
        "\n"
      ],
      "metadata": {
        "id": "gbp4aiWv3722"
      },
      "execution_count": null,
      "outputs": []
    },
    {
      "cell_type": "code",
      "source": [
        "if __name__ == '__main__':\n",
        "    # Start ngrok tunnel manually\n",
        "    tunnel = ngrok.connect(8050)  # Connect to port 8050\n",
        "    print(' * Public URL:', tunnel.public_url)  # Print the public URL\n",
        "\n",
        "    app.run_server(debug=False)  # Start the Dash app\n",
        "\n",
        "    # Close the tunnel when the app stops\n",
        "    ngrok.disconnect(tunnel.public_url)"
      ],
      "metadata": {
        "id": "CHUMTfD0KlRE"
      },
      "execution_count": null,
      "outputs": []
    },
    {
      "cell_type": "code",
      "source": [
        "! ngrok authtoken 2sXsoLt5xwYuC0avuQMuurJvRWK_3zCmfurJPduAkDUrj2W6k"
      ],
      "metadata": {
        "id": "XmNLH-FhLXe0"
      },
      "execution_count": null,
      "outputs": []
    },
    {
      "cell_type": "code",
      "source": [
        "ngrok.kill()"
      ],
      "metadata": {
        "id": "s83-gWIuK3qb"
      },
      "execution_count": null,
      "outputs": []
    },
    {
      "cell_type": "markdown",
      "source": [
        "# **Miscellaneous**"
      ],
      "metadata": {
        "id": "CvznK6EYZUKP"
      }
    },
    {
      "cell_type": "code",
      "source": [
        "random.seed(42)"
      ],
      "metadata": {
        "id": "8jLEuwRjZTl3"
      },
      "execution_count": null,
      "outputs": []
    },
    {
      "cell_type": "code",
      "source": [
        "random_indices = np.random.choice(data_df.index, 5000, replace=False)\n",
        "data_df.loc[random_indices, 'ratings'] = np.random.uniform(2.5, 9.5, 5000)\n",
        "data_df.loc[random_indices, 'user_id'] = np.random.randint(1, 1001, 5000)"
      ],
      "metadata": {
        "id": "OuHQtIP-7gi7"
      },
      "execution_count": null,
      "outputs": []
    },
    {
      "cell_type": "code",
      "source": [
        "print(test_data_kmeans.head())"
      ],
      "metadata": {
        "id": "j_i7zBvooGap"
      },
      "execution_count": null,
      "outputs": []
    },
    {
      "cell_type": "markdown",
      "source": [
        "add a new user column test_data_kmeans called user which enumerates from 1 to all of the rows"
      ],
      "metadata": {
        "id": "CZ8rxhFpA9Gr"
      }
    },
    {
      "cell_type": "code",
      "source": [
        "test_data_kmeans['user'] = range(1, len(test_data_kmeans) + 1)"
      ],
      "metadata": {
        "id": "FREmXhiGA76I"
      },
      "execution_count": null,
      "outputs": []
    },
    {
      "cell_type": "code",
      "source": [
        "test_data_kmeans = test_data_kmeans[['user','user_rating','name']]"
      ],
      "metadata": {
        "id": "rB1V2GF_AyxD"
      },
      "execution_count": null,
      "outputs": []
    },
    {
      "cell_type": "code",
      "source": [
        "print(test_data_kmeans.head())"
      ],
      "metadata": {
        "id": "Ktlq2vu3BZHT"
      },
      "execution_count": null,
      "outputs": []
    },
    {
      "cell_type": "code",
      "source": [
        "song_interaction_count = test_data_kmeans.groupby('name')['user'].count()\n",
        "popular_songs = song_interaction_count[song_interaction_count >= 3].index\n",
        "test_data_kmeans = test_data_kmeans[test_data_kmeans['name'].isin(popular_songs)]\n",
        "\n",
        "utility_matrix = test_data_kmeans.pivot_table(index='user', columns='name', values='user_rating', fill_value=0)\n",
        "\n",
        "\n",
        "sparse_matrix = csr_matrix(utility_matrix)\n",
        "\n",
        "\n",
        "def recommend_songs_batched(song_name, utility_matrix, sparse_matrix, batch_size=1000, num_recommendations=5):\n",
        "\n",
        "    if song_name not in utility_matrix.columns:\n",
        "        print(f\"Song '{song_name}' not found in the dataset!\")\n",
        "        return []\n",
        "\n",
        "    song_idx = utility_matrix.columns.get_loc(song_name)\n",
        "\n",
        "    knn = NearestNeighbors(metric='cosine', algorithm='brute', n_neighbors=num_recommendations + 1)\n",
        "    recommendations = []\n",
        "\n",
        "    for start in range(0, sparse_matrix.shape[1], batch_size):\n",
        "        end = min(start + batch_size, sparse_matrix.shape[1])\n",
        "\n",
        "        knn.fit(sparse_matrix.T[start:end])\n",
        "\n",
        "\n",
        "        indices_in_batch = list(range(start, end))\n",
        "\n",
        "\n",
        "        distances, indices = knn.kneighbors(\n",
        "            sparse_matrix.T[song_idx].reshape(1, -1),\n",
        "            n_neighbors=num_recommendations + 1\n",
        "        )\n",
        "\n",
        "        for i, idx in enumerate(indices.flatten()):\n",
        "\n",
        "            if i == 0:\n",
        "                continue\n",
        "\n",
        "            global_idx = indices_in_batch[idx]\n",
        "            recommendations.append((utility_matrix.columns[global_idx], 1 - distances.flatten()[i]))\n",
        "\n",
        "    return sorted(recommendations, key=lambda x: -x[1])[:num_recommendations]\n",
        "\n",
        "song_to_recommend = \"Camby Bolongo\"\n",
        "recommendations = recommend_songs_batched(song_to_recommend, utility_matrix, sparse_matrix, batch_size=5000, num_recommendations=5)\n",
        "\n",
        "print(f\"Recommendations for '{song_to_recommend}':\")\n",
        "for rec, score in recommendations:\n",
        "    print(f\"{rec} (Similarity Score: {score:.2f})\")"
      ],
      "metadata": {
        "id": "hZMlGWhdCSOM"
      },
      "execution_count": null,
      "outputs": []
    },
    {
      "cell_type": "code",
      "source": [
        "print(sparse_matrix.shape)"
      ],
      "metadata": {
        "id": "IArdBRMMF6MJ"
      },
      "execution_count": null,
      "outputs": []
    },
    {
      "cell_type": "code",
      "source": [
        "print(utility_matrix)"
      ],
      "metadata": {
        "id": "2QFaO15pKKEX"
      },
      "execution_count": null,
      "outputs": []
    }
  ]
}
{
  "nbformat": 4,
  "nbformat_minor": 0,
  "metadata": {
    "colab": {
      "provenance": [],
      "authorship_tag": "ABX9TyPDEf9MPvgi7YiNbVI1wnny",
      "include_colab_link": true
    },
    "kernelspec": {
      "name": "python3",
      "display_name": "Python 3"
    },
    "language_info": {
      "name": "python"
    }
  },
  "cells": [
    {
      "cell_type": "markdown",
      "metadata": {
        "id": "view-in-github",
        "colab_type": "text"
      },
      "source": [
        "<a href=\"https://colab.research.google.com/github/ryxen2/CSE_303/blob/main/2022_2_60_116_Lab01.ipynb\" target=\"_parent\"><img src=\"https://colab.research.google.com/assets/colab-badge.svg\" alt=\"Open In Colab\"/></a>"
      ]
    },
    {
      "cell_type": "markdown",
      "source": [
        "Python Learning Lab - 01 :"
      ],
      "metadata": {
        "id": "olNsU_meoWik"
      }
    },
    {
      "cell_type": "code",
      "source": [
        "import math"
      ],
      "metadata": {
        "id": "_FZzpE_Izf9N"
      },
      "execution_count": null,
      "outputs": []
    },
    {
      "cell_type": "markdown",
      "source": [
        "Given two integer numbers, write a Python program to return their product. If the product is greater\n",
        "than 1000, then return their sum. Read inputs from the user.\n",
        "\n"
      ],
      "metadata": {
        "id": "5xM8XH8zunzk"
      }
    },
    {
      "cell_type": "code",
      "source": [
        "def problem1(x,y):\n",
        "  if x*y > 1000:\n",
        "    return x+y\n",
        "  else:\n",
        "    return x*y\n",
        "a = int(input(\"Enter first number : \"))\n",
        "b = int(input(\"Enter second number : \"))\n",
        "print(f\"Result = {problem1(a,b)}\")\n"
      ],
      "metadata": {
        "colab": {
          "base_uri": "https://localhost:8080/"
        },
        "id": "DsDRBN6ExL2N",
        "outputId": "55cef69a-7603-4192-e3ee-be81fbdaaf2e"
      },
      "execution_count": null,
      "outputs": [
        {
          "output_type": "stream",
          "name": "stdout",
          "text": [
            "Enter first number : 123\n",
            "Enter second number : 123\n",
            "Result = 246\n"
          ]
        }
      ]
    },
    {
      "cell_type": "markdown",
      "source": [
        "Write a Python program to find the area and perimeter of a circle. Read inputs from the user."
      ],
      "metadata": {
        "id": "cdjunj0QyhI7"
      }
    },
    {
      "cell_type": "code",
      "source": [
        "def problem2(x):\n",
        "  yield 2*math.pi*x\n",
        "def area_of_a_circle(x):\n",
        "  yield math.pi*x*x\n",
        "r = float(input(\"Enter radius : \"))\n",
        "print(f\"Perimeter of circle with radius {r} is {next(problem2(r))}\")\n",
        "print(f\"Area of circle with radius {r} is {next(area_of_a_circle(r))}\")"
      ],
      "metadata": {
        "colab": {
          "base_uri": "https://localhost:8080/"
        },
        "id": "-e4yGylDyndz",
        "outputId": "711a35b2-df36-4cd8-f5da-541b5828bb61"
      },
      "execution_count": null,
      "outputs": [
        {
          "output_type": "stream",
          "name": "stdout",
          "text": [
            "Enter radius : 1\n",
            "Perimeter of circle with radius 1.0 is 6.283185307179586\n",
            "Area of circle with radius 1.0 is 3.141592653589793\n"
          ]
        }
      ]
    },
    {
      "cell_type": "markdown",
      "source": [
        "Write a Python program to calculate the compound interest based on the given formula. Read inputs\n",
        "from the user.\n",
        "A = P * (1 + R/100)\n",
        "\n",
        "T where P is the principle amount, R is the interest rate and T is time (in years).\n",
        "\n",
        "Define a function named as compound_interest_2022-2-60-116 in your program."
      ],
      "metadata": {
        "id": "8-y8dxWv2BL6"
      }
    },
    {
      "cell_type": "code",
      "source": [
        "def  problem3_2022_2_60_116(P,R,T):\n",
        "  yield P * (1 + R/100)**T\n",
        "\n",
        "P = float(input(\"Enter the principal amount: \"))\n",
        "R = float(input(\"Enter the interest rate: \"))\n",
        "T = float(input(\"Enter the time period: \"))\n",
        "\n",
        "print(f\"The compound interest is {next(problem3_2022_2_60_116(P,R,T))}\")\n"
      ],
      "metadata": {
        "colab": {
          "base_uri": "https://localhost:8080/"
        },
        "id": "ljPTFC6S2Cab",
        "outputId": "3de65e48-c7f6-4d4d-cda1-17bcfc575351"
      },
      "execution_count": null,
      "outputs": [
        {
          "output_type": "stream",
          "name": "stdout",
          "text": [
            "Enter the principal amount: 1000\n",
            "Enter the interest rate: 10\n",
            "Enter the time period: 3\n",
            "The compound interest is 1331.0000000000005\n"
          ]
        }
      ]
    },
    {
      "cell_type": "markdown",
      "source": [
        "Given a positive integer N (read from the user), write a Python program to calculate the value of the\n",
        "following series.\n",
        "\n",
        "1\n",
        "2 + 2\n",
        "2 + 3\n",
        "2 + 4\n",
        "2 ..... + N 2"
      ],
      "metadata": {
        "id": "fvGpPFqX3WvR"
      }
    },
    {
      "cell_type": "code",
      "source": [
        "def problem4_bruteforce(n):\n",
        "  sum = 0\n",
        "  for i in range(1,n+1):\n",
        "    sum += i*i\n",
        "  return sum\n",
        "def problem4_formula(n):\n",
        "  return (n*(n+1)*(2*n+1))/6\n",
        "n = int(input(\"Enter the value of n: \"))\n",
        "print(f\"The sum of series is {problem4_formula(n)}\")"
      ],
      "metadata": {
        "colab": {
          "base_uri": "https://localhost:8080/"
        },
        "id": "d-0SgLUh3gxM",
        "outputId": "03601d86-f5f4-43fb-ce12-bb3c7bd69e33"
      },
      "execution_count": null,
      "outputs": [
        {
          "output_type": "stream",
          "name": "stdout",
          "text": [
            "Enter the value of n: 5\n",
            "The sum of series is 55.0\n"
          ]
        }
      ]
    },
    {
      "cell_type": "markdown",
      "source": [
        "Given a positive integer N (read from the user), write a Python program to check if the number is\n",
        "prime or not. Define a function named as prime_find_2022-2-60-116 in your program."
      ],
      "metadata": {
        "id": "NNWYQUrl4jnt"
      }
    },
    {
      "cell_type": "code",
      "source": [
        "def problem5(n):\n",
        "  if n <= 1:\n",
        "    return False\n",
        "  for i in range(2, int(n**0.5) + 1):\n",
        "    if n % i == 0:\n",
        "      return False\n",
        "  return True\n",
        "\n",
        "n = int(input(\"Enter the value of n: \"))\n",
        "if problem5(n):\n",
        "  print(f\"{n} is a prime number\")\n",
        "else:\n",
        "  print(f\"{n} is not a prime number\")"
      ],
      "metadata": {
        "colab": {
          "base_uri": "https://localhost:8080/"
        },
        "id": "sanQXx0_4vRl",
        "outputId": "95c1f530-224f-48af-dc74-6cc3c34573ca"
      },
      "execution_count": null,
      "outputs": [
        {
          "output_type": "stream",
          "name": "stdout",
          "text": [
            "Enter the value of n: 30\n",
            "30 is not a prime number\n"
          ]
        }
      ]
    },
    {
      "cell_type": "markdown",
      "source": [
        "Given a positive integer n (read from the user), write a Python program to find the n-th Fibonacci\n",
        "number based on the following assumptions.\n",
        "Fn = Fn-1 + Fn-2 where F0 = 0 and F1 = 1"
      ],
      "metadata": {
        "id": "ZsGb2PoJ6nSF"
      }
    },
    {
      "cell_type": "code",
      "source": [
        "def problem6(n):\n",
        "  if n <= 0:\n",
        "    return 0\n",
        "  elif n == 1:\n",
        "    return 1\n",
        "  else:\n",
        "    return problem6(n-1) + problem6(n-2)\n",
        "n = int(input(\"Enter the value of n: \"))\n",
        "print(f\"The {n}th Fibonacci number is {problem6(n)}\")"
      ],
      "metadata": {
        "colab": {
          "base_uri": "https://localhost:8080/"
        },
        "id": "tQ63jf426pA1",
        "outputId": "3f676d56-f50c-4359-bddc-620038754b10"
      },
      "execution_count": null,
      "outputs": [
        {
          "output_type": "stream",
          "name": "stdout",
          "text": [
            "Enter the value of n: 6\n",
            "The 6th Fibonacci number is 8\n"
          ]
        }
      ]
    },
    {
      "cell_type": "markdown",
      "source": [
        "Given a list of numbers (hardcoded in the program), write a Python program to calculate the sum of\n",
        "the list. Do not use any built-in function."
      ],
      "metadata": {
        "id": "RqDqI_nz7EJt"
      }
    },
    {
      "cell_type": "code",
      "source": [
        "def problem7(myarray):\n",
        "  sum = 0\n",
        "  for i in myarray:\n",
        "    sum += i\n",
        "  return sum\n",
        "\n",
        "myarray = [1,2,3,4,5,6,7,8,9,10]\n",
        "print(f\"The sum of the list is {problem7(myarray)}\")"
      ],
      "metadata": {
        "colab": {
          "base_uri": "https://localhost:8080/"
        },
        "id": "7mNVamu57HUN",
        "outputId": "8d4a8c53-e932-44d5-c202-38679128f73e"
      },
      "execution_count": null,
      "outputs": [
        {
          "output_type": "stream",
          "name": "stdout",
          "text": [
            "The sum of the list is 55\n"
          ]
        }
      ]
    },
    {
      "cell_type": "markdown",
      "source": [
        "Given a list of numbers (hardcoded in the program), write a Python program to calculate the sum of\n",
        "the even-indexed elements in the list."
      ],
      "metadata": {
        "id": "CNtDm0Nu7Yoc"
      }
    },
    {
      "cell_type": "code",
      "source": [
        "def problem8(myarray):\n",
        "  sum = 0\n",
        "  for i in range(0,len(myarray),2):\n",
        "    sum += myarray[i]\n",
        "  return sum\n",
        "\n",
        "myarray = [1,2,3,4,5,6,7,8,9,10]\n",
        "print(f\"The sum of the list (even-indexed) is {problem8(myarray)}\")"
      ],
      "metadata": {
        "colab": {
          "base_uri": "https://localhost:8080/"
        },
        "id": "7KKnrf-I7bpv",
        "outputId": "a9c34e91-5964-41ca-e663-55f665436885"
      },
      "execution_count": null,
      "outputs": [
        {
          "output_type": "stream",
          "name": "stdout",
          "text": [
            "The sum of the list is 25\n"
          ]
        }
      ]
    },
    {
      "cell_type": "markdown",
      "source": [
        "Given a list of numbers (hardcoded in the program), write a Python program to find the largest and\n",
        "smallest element of the list. Define two functions largest_number_2022-2-60-116 and\n",
        "smallest_number_2022-2-60-116 in your program. Do not use any built-in function."
      ],
      "metadata": {
        "id": "1pmyePyg8DJm"
      }
    },
    {
      "cell_type": "code",
      "source": [
        "def problem9_largest_number_2022_2_60_116(myarray):\n",
        "  largest = myarray[0]\n",
        "  for i in myarray:\n",
        "    if i > largest:\n",
        "      largest = i\n",
        "  return largest\n",
        "\n",
        "def problem9_smallest_number_2022_2_60_116(myarray):\n",
        "  smallest = myarray[0]\n",
        "  for i in myarray:\n",
        "    if i < smallest:\n",
        "      smallest = i\n",
        "  return smallest\n",
        "\n",
        "myarray = [1,2,3,4,5,6,7,8,9,10]\n",
        "print(f\"Largest number in array is {problem9_largest_number_2022_2_60_116(myarray)}\")\n",
        "print(f\"Smallest number in array is {problem9_smallest_number_2022_2_60_116(myarray)}\")"
      ],
      "metadata": {
        "colab": {
          "base_uri": "https://localhost:8080/"
        },
        "id": "bCxzngRG8Rs-",
        "outputId": "6a820911-4ef6-4067-88f0-9dd0739ff7fc"
      },
      "execution_count": null,
      "outputs": [
        {
          "output_type": "stream",
          "name": "stdout",
          "text": [
            "Largest number in array is 10\n",
            "Smallest number in array is 1\n"
          ]
        }
      ]
    },
    {
      "cell_type": "markdown",
      "source": [
        "Given a list of numbers (hardcoded in the program), write a Python program to find the second\n",
        "largest element of the list."
      ],
      "metadata": {
        "id": "t1hXHtxu82pN"
      }
    },
    {
      "cell_type": "code",
      "source": [
        "def problem10_second_largest_number_2022_2_60_11(myarray):\n",
        "  largest = largest2 = myarray[0]\n",
        "  for i in myarray:\n",
        "    if i > largest:\n",
        "      largest2 = largest\n",
        "      largest = i\n",
        "    elif i > largest2 and i!=largest:\n",
        "      largest2 = i\n",
        "  return largest2\n",
        "\n",
        "myarray = [1,2,3,4,5,6,7,8,9,9,10]\n",
        "print(f\"Second largest number in array is {problem10_second_largest_number_2022_2_60_11(myarray)}\")"
      ],
      "metadata": {
        "colab": {
          "base_uri": "https://localhost:8080/"
        },
        "id": "A_3gxjN987IF",
        "outputId": "15397f71-5139-40e5-ca6d-7c7d92b005d0"
      },
      "execution_count": null,
      "outputs": [
        {
          "output_type": "stream",
          "name": "stdout",
          "text": [
            "Second largest number in array is 9\n"
          ]
        }
      ]
    },
    {
      "cell_type": "markdown",
      "source": [
        "Given a string, display only those characters which are present at an even index number. Read inputs\n",
        "from the user."
      ],
      "metadata": {
        "id": "GLRCdw519INE"
      }
    },
    {
      "cell_type": "code",
      "source": [
        "def problem11_show_even_indexed_characters(mystring):\n",
        "  for i in range(0,len(mystring),2):\n",
        "    print(mystring[i],end=\"\")\n",
        "mystring = input(\"Enter a string: \")\n",
        "problem11_show_even_indexed_characters(mystring)"
      ],
      "metadata": {
        "colab": {
          "base_uri": "https://localhost:8080/"
        },
        "id": "fRLFaF1W9NE0",
        "outputId": "0696728b-a91a-4537-9f17-90d5b97bbc6b"
      },
      "execution_count": null,
      "outputs": [
        {
          "output_type": "stream",
          "name": "stdout",
          "text": [
            "Enter a string: Rafid\n",
            "Rfd"
          ]
        }
      ]
    },
    {
      "cell_type": "markdown",
      "source": [
        "Given a string and an integer number n, remove characters from a string starting from zero up to n\n",
        "and return a new string. N must be less than the length of the string. Read inputs from the user. Do\n",
        "not use any built-in function."
      ],
      "metadata": {
        "id": "cVCtNSAh-2A1"
      }
    },
    {
      "cell_type": "code",
      "source": [
        "def problem12_string_remove(mystring):\n",
        "  n = int(input(\"Enter the value of n: \"))\n",
        "  return mystring[n+1:]\n",
        "\n",
        "mystring = input(\"Enter a string: \")\n",
        "print(problem12_string_remove(mystring))"
      ],
      "metadata": {
        "colab": {
          "base_uri": "https://localhost:8080/"
        },
        "id": "QiizsB9z-203",
        "outputId": "5d36c9d1-1daf-49d3-c0a5-542692936070"
      },
      "execution_count": null,
      "outputs": [
        {
          "output_type": "stream",
          "name": "stdout",
          "text": [
            "Enter a string: Rafid\n",
            "Enter the value of n: 3\n",
            "d\n"
          ]
        }
      ]
    },
    {
      "cell_type": "markdown",
      "source": [
        "Given a string, find the count of the substring “CSE303” appeared in the given string. Do not use any\n",
        "built-in function."
      ],
      "metadata": {
        "id": "rDyX9I7n_w12"
      }
    },
    {
      "cell_type": "code",
      "source": [
        "def problem13_substring_count(mystring):\n",
        "  count = 0\n",
        "  for i in range(0,len(mystring)-5):\n",
        "    if mystring[i:i+6] == \"CSE303\":\n",
        "      count += 1\n",
        "  return count\n",
        "\n",
        "mystring = input(\"Enter a string: \")\n",
        "print(f\"The substring CSE303 appeared {problem13_substring_count(mystring)} times\")"
      ],
      "metadata": {
        "colab": {
          "base_uri": "https://localhost:8080/"
        },
        "id": "UQ1Gkt16_zNV",
        "outputId": "2e73f0c9-1784-44b8-faf0-c745c5286c63"
      },
      "execution_count": null,
      "outputs": [
        {
          "output_type": "stream",
          "name": "stdout",
          "text": [
            "Enter a string: CSE303CSE303CSE303\n",
            "The substring CSE303 appeared 3 times\n"
          ]
        }
      ]
    },
    {
      "cell_type": "markdown",
      "source": [
        "Given a string, write a python program to check if it is palindrome or not. Define a function named\n",
        "palindrome_checker_<your-student-id> in your program."
      ],
      "metadata": {
        "id": "vjQKh-NX_3FF"
      }
    },
    {
      "cell_type": "code",
      "source": [
        "def problem14_palindrome_check_2022_2_60_116(mystring):\n",
        "  return mystring == mystring[::-1]\n",
        "\n",
        "mystring = input(\"Enter a string: \")\n",
        "print(problem14_palindrome_check_2022_2_60_116(mystring))"
      ],
      "metadata": {
        "colab": {
          "base_uri": "https://localhost:8080/"
        },
        "id": "rMmZh6el_6K-",
        "outputId": "ca73c566-11e7-4015-bfef-ee748b410301"
      },
      "execution_count": null,
      "outputs": [
        {
          "output_type": "stream",
          "name": "stdout",
          "text": [
            "Enter a string: botob\n",
            "True\n"
          ]
        }
      ]
    },
    {
      "cell_type": "markdown",
      "source": [
        "15. Given a two list of numbers (hardcoded in the program), create a new list such that new list should\n",
        "contain only odd numbers from the first list and even numbers from the second list."
      ],
      "metadata": {
        "id": "osdC8O4wAY2l"
      }
    },
    {
      "cell_type": "code",
      "source": [
        "def problem15_create_new_list(myarray1, myarray2):\n",
        "  new_list=[]\n",
        "  for i in myarray1:\n",
        "    if i%2!=0:\n",
        "      new_list.append(i)\n",
        "  for i in myarray2:\n",
        "    if i%2==0:\n",
        "      new_list.append(i)\n",
        "  return new_list\n",
        "\n",
        "myarray1 = [1,2,3,4,5,6,7,8,9,10]\n",
        "myarray2 = [1,2,3,4,5,6,7,8,9,10]\n",
        "\n",
        "print(f'New List : {problem15_create_new_list(myarray1,myarray2)}')"
      ],
      "metadata": {
        "colab": {
          "base_uri": "https://localhost:8080/"
        },
        "id": "WI1qkO6QAdLl",
        "outputId": "4d2053a6-9cd3-486f-bbe6-4776ca8f318a"
      },
      "execution_count": null,
      "outputs": [
        {
          "output_type": "stream",
          "name": "stdout",
          "text": [
            "New List : [1, 3, 5, 7, 9, 2, 4, 6, 8, 10]\n"
          ]
        }
      ]
    }
  ]
}